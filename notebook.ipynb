{
 "cells": [
  {
   "cell_type": "code",
   "execution_count": 15,
   "metadata": {},
   "outputs": [],
   "source": [
    "import pandas as pd \n",
    "import numpy as np\n",
    "\n",
    "data_2 = pd.read_csv('data_2.csv', index_col=0)\n",
    "data_model = pd.read_csv('data_model.csv', index_col=0)\n",
    "\n",
    "conjunto_slice = pd.read_csv('forecasts_database.csv', index_col=0)['geo_slice'].unique()\n",
    "\n",
    "data_2 = data_2[data_2['geo_slice'].isin(conjunto_slice)]\n",
    "data_model = data_model[data_model['geo_slice'].isin(conjunto_slice)]\n",
    "\n",
    "data_2.to_csv('data_2.csv')\n",
    "data_model.to_csv('data_model.csv')"
   ]
  }
 ],
 "metadata": {
  "kernelspec": {
   "display_name": "Python 3",
   "language": "python",
   "name": "python3"
  },
  "language_info": {
   "codemirror_mode": {
    "name": "ipython",
    "version": 3
   },
   "file_extension": ".py",
   "mimetype": "text/x-python",
   "name": "python",
   "nbconvert_exporter": "python",
   "pygments_lexer": "ipython3",
   "version": "3.11.4"
  }
 },
 "nbformat": 4,
 "nbformat_minor": 2
}
